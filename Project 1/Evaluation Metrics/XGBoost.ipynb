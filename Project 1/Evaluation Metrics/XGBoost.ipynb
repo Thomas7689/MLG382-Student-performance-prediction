{
 "cells": [
  {
   "cell_type": "code",
   "execution_count": null,
   "id": "a022e314",
   "metadata": {},
   "outputs": [],
   "source": [
    "from sklearn.metrics import accuracy_score, classification_report, confusion_matrix\n",
    "import seaborn as sns\n",
    "import matplotlib.pyplot as plt"
   ]
  },
  {
   "cell_type": "code",
   "execution_count": null,
   "id": "9952900a",
   "metadata": {},
   "outputs": [],
   "source": [
    "%run \"../Model building/XGBoost.ipynb\""
   ]
  },
  {
   "cell_type": "code",
   "execution_count": null,
   "id": "3dfce891",
   "metadata": {},
   "outputs": [],
   "source": [
    "def evaluate_model(model, X_test, y_test):\n",
    "    y_pred = model.predict(X_test)\n",
    "    \n",
    "    print(\"Accuracy:\", accuracy_score(y_test, y_pred), \"%\")\n",
    "    print(\"\\nClassification Report:\\n\", classification_report(y_test, y_pred, target_names=['A', 'B', 'C', 'D', 'F'], zero_division=0))\n",
    "\n",
    "    cm = confusion_matrix(y_test, y_pred)\n",
    "    sns.heatmap(cm, annot=True, fmt='d', cmap='Blues', xticklabels=['A','B','C','D','F'], yticklabels=['A','B','C','D','F'])\n",
    "    plt.xlabel(\"Predicted\")\n",
    "    plt.ylabel(\"Actual\")\n",
    "    plt.title(\"Confusion Matrix\")\n",
    "    plt.show()"
   ]
  },
  {
   "cell_type": "code",
   "execution_count": null,
   "id": "e18f04fa",
   "metadata": {},
   "outputs": [],
   "source": [
    "evaluate_model(opt, xTest, yTest)"
   ]
  }
 ],
 "metadata": {
  "kernelspec": {
   "display_name": "base",
   "language": "python",
   "name": "python3"
  },
  "language_info": {
   "name": "python",
   "version": "3.12.3"
  }
 },
 "nbformat": 4,
 "nbformat_minor": 5
}
